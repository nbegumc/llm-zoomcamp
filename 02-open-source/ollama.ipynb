{
 "cells": [
  {
   "cell_type": "code",
   "execution_count": 1,
   "id": "2b3fd329",
   "metadata": {
    "execution": {
     "iopub.execute_input": "2024-07-19T13:54:04.982361Z",
     "iopub.status.busy": "2024-07-19T13:54:04.981982Z",
     "iopub.status.idle": "2024-07-19T13:54:04.989478Z",
     "shell.execute_reply": "2024-07-19T13:54:04.988519Z",
     "shell.execute_reply.started": "2024-07-19T13:54:04.982334Z"
    }
   },
   "outputs": [],
   "source": [
    "import os \n",
    "os.environ['HF_HOME']='/run/cache/'"
   ]
  },
  {
   "cell_type": "code",
   "execution_count": 2,
   "id": "199f3988",
   "metadata": {
    "execution": {
     "iopub.execute_input": "2024-07-19T13:54:05.890914Z",
     "iopub.status.busy": "2024-07-19T13:54:05.890545Z",
     "iopub.status.idle": "2024-07-19T13:54:06.534333Z",
     "shell.execute_reply": "2024-07-19T13:54:06.533569Z",
     "shell.execute_reply.started": "2024-07-19T13:54:05.890890Z"
    }
   },
   "outputs": [
    {
     "name": "stdout",
     "output_type": "stream",
     "text": [
      "Filesystem      Size  Used Avail Use% Mounted on\n",
      "overlay         100G   35G   65G  35% /\n",
      "tmpfs            64M     0   64M   0% /dev\n",
      "tmpfs           7.7G     0  7.7G   0% /sys/fs/cgroup\n",
      "/dev/nvme0n1p1  100G   35G   65G  35% /run\n",
      "tmpfs            14G     0   14G   0% /dev/shm\n",
      "/dev/nvme2n1    2.0G  136M  1.8G   8% /home/jovyan\n",
      "tmpfs            14G  120K   14G   1% /home/jovyan/.saturn\n",
      "tmpfs            14G   12K   14G   1% /run/secrets/kubernetes.io/serviceaccount\n",
      "tmpfs           7.7G   12K  7.7G   1% /proc/driver/nvidia\n",
      "tmpfs           7.7G  3.3M  7.7G   1% /run/nvidia-persistenced/socket\n",
      "tmpfs           7.7G     0  7.7G   0% /proc/acpi\n",
      "tmpfs           7.7G     0  7.7G   0% /sys/firmware\n"
     ]
    }
   ],
   "source": [
    "!df -h"
   ]
  },
  {
   "cell_type": "code",
   "execution_count": 3,
   "id": "9626ef61",
   "metadata": {
    "execution": {
     "iopub.execute_input": "2024-07-19T13:54:08.731384Z",
     "iopub.status.busy": "2024-07-19T13:54:08.730973Z",
     "iopub.status.idle": "2024-07-19T13:54:12.070615Z",
     "shell.execute_reply": "2024-07-19T13:54:12.069737Z",
     "shell.execute_reply.started": "2024-07-19T13:54:08.731356Z"
    },
    "tags": []
   },
   "outputs": [
    {
     "data": {
      "text/plain": [
       "<minsearch.Index at 0x7fb2ca6cbc70>"
      ]
     },
     "execution_count": 3,
     "metadata": {},
     "output_type": "execute_result"
    }
   ],
   "source": [
    "import requests \n",
    "import minsearch\n",
    "\n",
    "docs_url = 'https://github.com/DataTalksClub/llm-zoomcamp/blob/main/01-intro/documents.json?raw=1'\n",
    "docs_response = requests.get(docs_url)\n",
    "documents_raw = docs_response.json()\n",
    "\n",
    "documents = []\n",
    "\n",
    "for course in documents_raw:\n",
    "    course_name = course['course']\n",
    "\n",
    "    for doc in course['documents']:\n",
    "        doc['course'] = course_name\n",
    "        documents.append(doc)\n",
    "\n",
    "index = minsearch.Index(\n",
    "    text_fields=[\"question\", \"text\", \"section\"],\n",
    "    keyword_fields=[\"course\"]\n",
    ")\n",
    "\n",
    "index.fit(documents)"
   ]
  },
  {
   "cell_type": "code",
   "execution_count": 4,
   "id": "eccb7100",
   "metadata": {
    "execution": {
     "iopub.execute_input": "2024-07-19T13:54:12.073074Z",
     "iopub.status.busy": "2024-07-19T13:54:12.072320Z",
     "iopub.status.idle": "2024-07-19T13:54:12.077344Z",
     "shell.execute_reply": "2024-07-19T13:54:12.076570Z",
     "shell.execute_reply.started": "2024-07-19T13:54:12.073037Z"
    },
    "tags": []
   },
   "outputs": [],
   "source": [
    "def search(query):\n",
    "    boost = {'question': 3.0, 'section': 0.5}\n",
    "\n",
    "    results = index.search(\n",
    "        query=query,\n",
    "        filter_dict={'course': 'data-engineering-zoomcamp'},\n",
    "        boost_dict=boost,\n",
    "        num_results=5\n",
    "    )\n",
    "\n",
    "    return results"
   ]
  },
  {
   "cell_type": "code",
   "execution_count": 5,
   "id": "24963b40",
   "metadata": {
    "execution": {
     "iopub.execute_input": "2024-07-19T13:54:22.324900Z",
     "iopub.status.busy": "2024-07-19T13:54:22.324303Z",
     "iopub.status.idle": "2024-07-19T13:54:22.333327Z",
     "shell.execute_reply": "2024-07-19T13:54:22.332368Z",
     "shell.execute_reply.started": "2024-07-19T13:54:22.324860Z"
    }
   },
   "outputs": [],
   "source": [
    "def build_prompt(query, search_results):\n",
    "    prompt_template = \"\"\"\n",
    "You're a course teaching assistant. Answer the QUESTION based on the CONTEXT from the FAQ database.\n",
    "Use only the facts from the CONTEXT when answering the QUESTION.\n",
    "\n",
    "QUESTION: {question}\n",
    "\n",
    "CONTEXT: \n",
    "{context}\n",
    "\"\"\".strip()\n",
    "\n",
    "    context = \"\"\n",
    "    \n",
    "    for doc in search_results:\n",
    "        context = context + f\"section: {doc['section']}\\nquestion: {doc['question']}\\nanswer: {doc['text']}\\n\\n\"\n",
    "    \n",
    "    prompt = prompt_template.format(question=query, context=context).strip()\n",
    "    return prompt\n",
    "\n",
    "def llm(prompt):\n",
    "    response = client.chat.completions.create(\n",
    "        model='phi3',\n",
    "        messages=[{\"role\": \"user\", \"content\": prompt}]\n",
    "    )\n",
    "    \n",
    "    return response.choices[0].message.content"
   ]
  },
  {
   "cell_type": "code",
   "execution_count": 6,
   "id": "7b1348e5-06ac-4568-89eb-fde00189e555",
   "metadata": {
    "execution": {
     "iopub.execute_input": "2024-07-19T13:54:25.260013Z",
     "iopub.status.busy": "2024-07-19T13:54:25.259632Z",
     "iopub.status.idle": "2024-07-19T13:54:25.264173Z",
     "shell.execute_reply": "2024-07-19T13:54:25.263237Z",
     "shell.execute_reply.started": "2024-07-19T13:54:25.259988Z"
    }
   },
   "outputs": [],
   "source": [
    "def rag(query):\n",
    "    search_results = search(query)\n",
    "    prompt = build_prompt(query, search_results)\n",
    "    answer = llm(prompt)\n",
    "    return answer"
   ]
  },
  {
   "cell_type": "code",
   "execution_count": null,
   "id": "a9059163-7f0b-4cde-99fb-21f656d485d7",
   "metadata": {},
   "outputs": [],
   "source": [
    "from openai import OpenAI\n",
    "\n",
    "client = OpenAI(\n",
    "    base_url='http://localhost:11434/v1/',\n",
    "    api_key='ollama',\n",
    ")"
   ]
  },
  {
   "cell_type": "code",
   "execution_count": null,
   "id": "b52e5e07-8369-499e-ab22-8127e216a69a",
   "metadata": {},
   "outputs": [],
   "source": [
    "llm('write that this is a test')"
   ]
  },
  {
   "cell_type": "code",
   "execution_count": null,
   "id": "3f59be93-7165-4f0d-b205-a70b24081ca3",
   "metadata": {},
   "outputs": [],
   "source": [
    "print(_)"
   ]
  }
 ],
 "metadata": {
  "kernelspec": {
   "display_name": "saturn (Python 3)",
   "language": "python",
   "name": "python3"
  },
  "language_info": {
   "codemirror_mode": {
    "name": "ipython",
    "version": 3
   },
   "file_extension": ".py",
   "mimetype": "text/x-python",
   "name": "python",
   "nbconvert_exporter": "python",
   "pygments_lexer": "ipython3",
   "version": "3.9.18"
  }
 },
 "nbformat": 4,
 "nbformat_minor": 5
}
